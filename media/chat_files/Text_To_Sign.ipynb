{
  "nbformat": 4,
  "nbformat_minor": 0,
  "metadata": {
    "colab": {
      "provenance": []
    },
    "kernelspec": {
      "name": "python3",
      "display_name": "Python 3"
    },
    "language_info": {
      "name": "python"
    }
  },
  "cells": [
    {
      "cell_type": "markdown",
      "source": [
        "# Introduction"
      ],
      "metadata": {
        "id": "eOUk6XgJjg0P"
      }
    },
    {
      "cell_type": "markdown",
      "source": [
        "This project Is focus on how to change text to sign Languages"
      ],
      "metadata": {
        "id": "2mcNFCW_jszq"
      }
    },
    {
      "cell_type": "markdown",
      "source": [
        "# Load Dataset"
      ],
      "metadata": {
        "id": "gePCdL-TjOx1"
      }
    },
    {
      "cell_type": "code",
      "source": [],
      "metadata": {
        "id": "BOfHn6yNjRuY"
      },
      "execution_count": null,
      "outputs": []
    },
    {
      "cell_type": "markdown",
      "source": [
        "#Extract Landmarks with mediaPipe"
      ],
      "metadata": {
        "id": "VTq1deEyi5z7"
      }
    },
    {
      "cell_type": "code",
      "execution_count": null,
      "metadata": {
        "id": "DTyBEWb_i0I0"
      },
      "outputs": [],
      "source": []
    },
    {
      "cell_type": "markdown",
      "source": [
        "# Change T5 Architecture"
      ],
      "metadata": {
        "id": "D-n9BsQBi4Lx"
      }
    },
    {
      "cell_type": "code",
      "source": [],
      "metadata": {
        "id": "kB1C5uSwjDUm"
      },
      "execution_count": null,
      "outputs": []
    },
    {
      "cell_type": "markdown",
      "source": [
        "# FineTuning"
      ],
      "metadata": {
        "id": "1j7sQyyfjIXm"
      }
    },
    {
      "cell_type": "code",
      "source": [],
      "metadata": {
        "id": "MnBMMTZ2jEkI"
      },
      "execution_count": null,
      "outputs": []
    },
    {
      "cell_type": "markdown",
      "source": [
        "# inference"
      ],
      "metadata": {
        "id": "3H5VrwPIjJtO"
      }
    },
    {
      "cell_type": "code",
      "source": [],
      "metadata": {
        "id": "6_eGhUIsjGlm"
      },
      "execution_count": null,
      "outputs": []
    }
  ]
}